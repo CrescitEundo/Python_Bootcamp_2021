{
 "cells": [
  {
   "cell_type": "markdown",
   "metadata": {},
   "source": [
    "## Python Bootcamp Week1"
   ]
  },
  {
   "cell_type": "markdown",
   "metadata": {},
   "source": [
    "### The Programming Language Python"
   ]
  },
  {
   "cell_type": "markdown",
   "metadata": {},
   "source": [
    "## Indentation\n",
    "Python uses indentation to define code blocks, instead of brackets. The standard Python indentation is 4 spaces, although tabs and any other space size will work, as long as it is consistent. Notice that code blocks do not need any termination.\n",
    "\n",
    "Here is an example for using Python's \"if\" statement using code blocks:\n",
    "\n",
    "    if <statement is true>:\n",
    "        <do something>\n",
    "        ....\n",
    "        ....\n",
    "    elif <another statement is true>: # else if\n",
    "        <do something else>\n",
    "        ....\n",
    "        ....\n",
    "    else:\n",
    "        <do another thing>\n",
    "        ....\n",
    "        ....\n",
    "        "
   ]
  },
  {
   "cell_type": "code",
   "execution_count": 1,
   "metadata": {},
   "outputs": [
    {
     "name": "stdout",
     "output_type": "stream",
     "text": [
      "x equals two!\n"
     ]
    }
   ],
   "source": [
    "x = 2\n",
    "if x == 2:\n",
    "    print(\"x equals two!\")\n",
    "else:\n",
    "    print(\"x does not equal to two.\")"
   ]
  },
  {
   "cell_type": "code",
   "execution_count": 2,
   "metadata": {},
   "outputs": [],
   "source": [
    "a = 1\n",
    "b = 2"
   ]
  },
  {
   "cell_type": "markdown",
   "metadata": {},
   "source": [
    "# Variables and Types\n",
    "\n",
    "One of the conveniences and pit-falls is that Python does not require to explicitly declare variables before using them. This is common in many other programming languages. Python is **not statically typed**, but rather follows the **object oriented** paradigm. Every variable in Python is an object.\n",
    "\n",
    "However, the **values** that variables hold have a designated **data type**.\n",
    "\n",
    "This tutorial will go over a few basic types of variables.\n"
   ]
  },
  {
   "cell_type": "markdown",
   "metadata": {},
   "source": [
    "## Numbers\n",
    "Python supports two types of numbers - **integers** and **floating point numbers**. Basic arithmetic operations yield different results for integers and floats. Special attention needs to be given when mixing values of different types within expressions the results might be unexpected.\n",
    "\n",
    "To define an integer, use the following syntax:"
   ]
  },
  {
   "cell_type": "code",
   "execution_count": 3,
   "metadata": {},
   "outputs": [
    {
     "name": "stdout",
     "output_type": "stream",
     "text": [
      "7\n",
      "<class 'int'>\n"
     ]
    }
   ],
   "source": [
    "myint = 7\n",
    "print(myint)\n",
    "print(type(myint))"
   ]
  },
  {
   "cell_type": "code",
   "execution_count": 4,
   "metadata": {},
   "outputs": [
    {
     "name": "stdout",
     "output_type": "stream",
     "text": [
      "7.0 <class 'float'>\n",
      "42.0 <class 'float'>\n"
     ]
    }
   ],
   "source": [
    "myfloat = 7.0\n",
    "print(myfloat, type(myfloat))\n",
    "myfloat = float(42)\n",
    "print(myfloat, type(myfloat))"
   ]
  },
  {
   "cell_type": "code",
   "execution_count": 5,
   "metadata": {},
   "outputs": [
    {
     "data": {
      "text/plain": [
       "0"
      ]
     },
     "execution_count": 5,
     "metadata": {},
     "output_type": "execute_result"
    }
   ],
   "source": [
    "myint = float(myint)\n",
    "int()"
   ]
  },
  {
   "cell_type": "code",
   "execution_count": 6,
   "metadata": {},
   "outputs": [
    {
     "name": "stdout",
     "output_type": "stream",
     "text": [
      "<class 'float'>\n"
     ]
    }
   ],
   "source": [
    "print(type(myint))"
   ]
  },
  {
   "cell_type": "markdown",
   "metadata": {},
   "source": [
    "### Arithmetic operations\n",
    "We can arithmetic operations that are common in many programing languages.\n",
    "- `+`, `-`, `*`, `/`\n",
    "- `//` is a special integer division even if the operands aren't\n",
    "- `x**y` is used for $x^y$\n",
    "- `n % k` calculates the remainder (modulo) of the integer division of n by k\n",
    "\n",
    "**Try it out!**"
   ]
  },
  {
   "cell_type": "code",
   "execution_count": 7,
   "metadata": {},
   "outputs": [
    {
     "data": {
      "text/plain": [
       "2"
      ]
     },
     "execution_count": 7,
     "metadata": {},
     "output_type": "execute_result"
    }
   ],
   "source": [
    "1+1"
   ]
  },
  {
   "cell_type": "code",
   "execution_count": 8,
   "metadata": {},
   "outputs": [],
   "source": [
    "import math as ma"
   ]
  },
  {
   "cell_type": "code",
   "execution_count": 9,
   "metadata": {},
   "outputs": [
    {
     "data": {
      "text/plain": [
       "2.0"
      ]
     },
     "execution_count": 9,
     "metadata": {},
     "output_type": "execute_result"
    }
   ],
   "source": [
    "ma.log10(100)"
   ]
  },
  {
   "cell_type": "code",
   "execution_count": 10,
   "metadata": {},
   "outputs": [
    {
     "name": "stdout",
     "output_type": "stream",
     "text": [
      "7 2 3.5 3.5\n"
     ]
    }
   ],
   "source": [
    "(numerator, denominator) = 3.5.as_integer_ratio()\n",
    "#Returns a pair of integers whose ratio is exactly equal to the original float and with a positive denominator.\n",
    "print(numerator, denominator, numerator/denominator, float(numerator)/float(denominator))\n"
   ]
  },
  {
   "cell_type": "code",
   "execution_count": 11,
   "metadata": {},
   "outputs": [
    {
     "data": {
      "text/plain": [
       "3"
      ]
     },
     "execution_count": 11,
     "metadata": {},
     "output_type": "execute_result"
    }
   ],
   "source": [
    "7//2"
   ]
  },
  {
   "cell_type": "code",
   "execution_count": 12,
   "metadata": {},
   "outputs": [
    {
     "data": {
      "text/plain": [
       "1"
      ]
     },
     "execution_count": 12,
     "metadata": {},
     "output_type": "execute_result"
    }
   ],
   "source": [
    "7 % 2"
   ]
  },
  {
   "cell_type": "code",
   "execution_count": 13,
   "metadata": {},
   "outputs": [],
   "source": [
    "# In class exercise:\n",
    "# Given a list of numbers x, print all the even numbers\n",
    "\n"
   ]
  },
  {
   "cell_type": "code",
   "execution_count": 14,
   "metadata": {},
   "outputs": [
    {
     "name": "stdout",
     "output_type": "stream",
     "text": [
      "22\n",
      "14\n",
      "2\n",
      "32\n",
      "50\n"
     ]
    }
   ],
   "source": [
    "x = [22,9,1,3,7,14,2,32,50,43]\n",
    "for num in x:\n",
    "    if num % 2 == 0:\n",
    "        print(num)\n",
    "    "
   ]
  },
  {
   "cell_type": "code",
   "execution_count": null,
   "metadata": {},
   "outputs": [],
   "source": []
  },
  {
   "cell_type": "markdown",
   "metadata": {},
   "source": [
    "## Strings\n",
    "Strings are defined either with a **single quote** or a **double quotes**. Many other languages interpret them differently.  "
   ]
  },
  {
   "cell_type": "code",
   "execution_count": 15,
   "metadata": {},
   "outputs": [
    {
     "name": "stdout",
     "output_type": "stream",
     "text": [
      "hello\n",
      "hello\n"
     ]
    }
   ],
   "source": [
    "mystring = 'hello'\n",
    "print(mystring)\n",
    "mystring = \"hello\"\n",
    "print(mystring)"
   ]
  },
  {
   "cell_type": "code",
   "execution_count": 16,
   "metadata": {},
   "outputs": [
    {
     "name": "stdout",
     "output_type": "stream",
     "text": [
      "Don't worry about apostrophes\n"
     ]
    }
   ],
   "source": [
    "mystring = \"Don't worry about apostrophes\"\n",
    "print(mystring)"
   ]
  },
  {
   "cell_type": "code",
   "execution_count": 17,
   "metadata": {},
   "outputs": [
    {
     "name": "stdout",
     "output_type": "stream",
     "text": [
      "You still don't have to worry about apostrophes\n"
     ]
    }
   ],
   "source": [
    "mystring = 'You still don\\'t have to worry about apostrophes'\n",
    "print(mystring)"
   ]
  },
  {
   "cell_type": "markdown",
   "metadata": {},
   "source": [
    "### Operators\n",
    "Some the arithmetic operators can be applied to strings, though they have a different interpretation\n",
    "- `+` will concatenate two strings\n",
    "- `*` multiplies a string with an integer, i.e. the result is that many copies of the original string.\n",
    "- `%` has a very special purpose to fill in values into strings\n",
    "\n",
    "Python provides a large number of operations to manipulate text strings. Examples are given at https://www.tutorialspoint.com/python/python_strings.htm\n",
    "\n",
    "For the complete documentation refer to https://docs.python.org/3.7/library/string.html\n"
   ]
  },
  {
   "cell_type": "code",
   "execution_count": 18,
   "metadata": {},
   "outputs": [
    {
     "name": "stdout",
     "output_type": "stream",
     "text": [
      "Hi, my name is Jingjing Cannon\n",
      "my first initial is JC\n"
     ]
    }
   ],
   "source": [
    "# Practice adding some strings!\n",
    "\n",
    "fn = 'Jingjing'\n",
    "ln = 'Cannon'\n",
    "\n",
    "print('Hi, my name is ' + fn + \" \" + ln)\n",
    "print('my first initial is ' + fn[0] + ln[0])"
   ]
  },
  {
   "cell_type": "code",
   "execution_count": 19,
   "metadata": {},
   "outputs": [],
   "source": [
    "# In-class exercise: \n",
    "# Append a line to finish this limmerick, then print it twice!\n",
    "\n",
    "beginning = \"\"\"There once was a man named Crocket\n",
    "Who put his foot in a socket\n",
    "When along came a witch,\n",
    "Who turned on the switch,\\n\"\"\" # \"\\n\" insterts a newline\n",
    "# source: Jeremy Diamond on http://home.earthlink.net/~kristenaa/nice/lims2f.html\n",
    "\n",
    "end = \"And rattled the change in his pocket.\\n\\n\" # enter a line that rhymes with line 1 "
   ]
  },
  {
   "cell_type": "code",
   "execution_count": null,
   "metadata": {},
   "outputs": [],
   "source": []
  },
  {
   "cell_type": "markdown",
   "metadata": {},
   "source": [
    "### String Formatting\n",
    "Python uses C-style string formatting to create new, formatted strings. The \"%\" operator is used to format a set of variables enclosed in a \"tuple\" (a fixed size list), together with a format string, which contains normal text together with \"argument specifiers\", special symbols like \"%s\" and \"%d\".\n",
    "\n",
    "Some basic argument specifiers you should know: %s - String (or any object with a string representation, like numbers)\n",
    "\n",
    "%d - Integers\n",
    "\n",
    "%f - Floating point numbers\n",
    "\n",
    "%.<number of digits>f - Floating point numbers with a fixed amount of digits to the right of the dot.\n",
    "\n",
    "%x/%X - Integers in hex representation (lowercase/uppercase)"
   ]
  },
  {
   "cell_type": "code",
   "execution_count": 20,
   "metadata": {},
   "outputs": [
    {
     "data": {
      "text/plain": [
       "0.5384615384615384"
      ]
     },
     "execution_count": 20,
     "metadata": {},
     "output_type": "execute_result"
    }
   ],
   "source": [
    "7./13."
   ]
  },
  {
   "cell_type": "code",
   "execution_count": 21,
   "metadata": {},
   "outputs": [
    {
     "name": "stdout",
     "output_type": "stream",
     "text": [
      "The magic number is 0.54!\n"
     ]
    }
   ],
   "source": [
    "print(\"The magic number is %.2f!\" % (7.0/13.0))"
   ]
  },
  {
   "cell_type": "code",
   "execution_count": 22,
   "metadata": {},
   "outputs": [
    {
     "name": "stdout",
     "output_type": "stream",
     "text": [
      "3.000000 plus 5.000000 is 8.000000\n"
     ]
    }
   ],
   "source": [
    "# Define output_str so that calling myadd(3, 5) displays a text \"3 plus 5 is 8\". \n",
    "\n",
    "def myadd(a,b):\n",
    "    c = a+b\n",
    "    output_str = \"%f plus %f is %f\" % (a,b,c) # yay, done!\n",
    "    print(output_str)\n",
    "    \n",
    "myadd(3, 5)"
   ]
  },
  {
   "cell_type": "markdown",
   "metadata": {},
   "source": [
    "### String Formatting -- II\n",
    "A more powerful one is the format method.\n",
    "\n",
    "Use the format code syntax {field_name:conversion}, where field_name specifies the index number of the argument to the str.format() method, and conversion refers to the conversion code of the data type.\n",
    "\n",
    "s - strings\n",
    "\n",
    "d - decimal integers (base-10)\n",
    "\n",
    "f - floating point display\n",
    "\n",
    "c - character\n",
    "\n",
    "b - binary\n",
    "\n",
    "o - octal\n",
    "\n",
    "x - hexadecimal with lowercase letters after 9\n",
    "\n",
    "X - hexadecimal with uppercase letters after 9\n",
    "\n",
    "e - exponent notation"
   ]
  },
  {
   "cell_type": "code",
   "execution_count": 23,
   "metadata": {},
   "outputs": [
    {
     "name": "stdout",
     "output_type": "stream",
     "text": [
      "3.000000 plus 5.000000 is 8.000000\n"
     ]
    }
   ],
   "source": [
    "def myadd(a,b):\n",
    "    c = a+b\n",
    "    output_str = \"{0:f} plus {1:f} is {2:f}\".format(a,b,c) # yay, done!\n",
    "    print(output_str)\n",
    "    \n",
    "myadd(3, 5)"
   ]
  },
  {
   "cell_type": "code",
   "execution_count": 24,
   "metadata": {},
   "outputs": [],
   "source": [
    "#In-class exercise:\n",
    "# print a sentence Mike __ and __. with two predefined verbs a and b. \n",
    "a = 'walked'\n",
    "b = 'sat down'\n"
   ]
  },
  {
   "cell_type": "code",
   "execution_count": null,
   "metadata": {},
   "outputs": [],
   "source": []
  },
  {
   "cell_type": "markdown",
   "metadata": {},
   "source": [
    "# Conditions\n",
    "Python uses boolean variables to evaluate conditions. The boolean values **True** and **False** are returned when an expression is compared or evaluated. \n",
    "\n",
    "Notice that variable assignment is done using a single equals operator \"=\", whereas comparison between two variables is done using the double equals operator \"==\". The \"not equals\" operator is marked as \"!=\"."
   ]
  },
  {
   "cell_type": "code",
   "execution_count": 25,
   "metadata": {},
   "outputs": [
    {
     "name": "stdout",
     "output_type": "stream",
     "text": [
      "True\n",
      "False\n",
      "True\n",
      "False\n"
     ]
    }
   ],
   "source": [
    "x = 2\n",
    "print(x == 2) # prints out True\n",
    "print(x == 3) # prints out False\n",
    "print(x <= 3) # prints out True\n",
    "print(x >= 3) # prints out True"
   ]
  },
  {
   "cell_type": "markdown",
   "metadata": {},
   "source": [
    "The \"and\", \"or\" and \"not\" boolean operators allow building complex boolean expressions, for example:"
   ]
  },
  {
   "cell_type": "code",
   "execution_count": 26,
   "metadata": {},
   "outputs": [
    {
     "name": "stdout",
     "output_type": "stream",
     "text": [
      "Your name is John, and you are also 23 years old.\n"
     ]
    }
   ],
   "source": [
    "name = \"John\"\n",
    "age = 23\n",
    "if (name == \"John\" and age == 23):\n",
    "    print(\"Your name is John, and you are also 23 years old.\")\n",
    "else:\n",
    "    print(\"You are not John.\")\n"
   ]
  },
  {
   "cell_type": "code",
   "execution_count": 27,
   "metadata": {},
   "outputs": [],
   "source": [
    "#In-class exercise, if name is John or Rick, print 'Your name is either John or Rick.'"
   ]
  },
  {
   "cell_type": "code",
   "execution_count": null,
   "metadata": {},
   "outputs": [],
   "source": []
  },
  {
   "cell_type": "raw",
   "metadata": {},
   "source": []
  },
  {
   "cell_type": "code",
   "execution_count": null,
   "metadata": {},
   "outputs": [],
   "source": []
  },
  {
   "cell_type": "code",
   "execution_count": null,
   "metadata": {},
   "outputs": [],
   "source": []
  },
  {
   "cell_type": "code",
   "execution_count": null,
   "metadata": {},
   "outputs": [],
   "source": []
  },
  {
   "cell_type": "code",
   "execution_count": null,
   "metadata": {},
   "outputs": [],
   "source": []
  },
  {
   "cell_type": "code",
   "execution_count": null,
   "metadata": {},
   "outputs": [],
   "source": []
  },
  {
   "cell_type": "code",
   "execution_count": null,
   "metadata": {},
   "outputs": [],
   "source": []
  },
  {
   "cell_type": "code",
   "execution_count": null,
   "metadata": {},
   "outputs": [],
   "source": []
  }
 ],
 "metadata": {
  "kernelspec": {
   "display_name": "Python 3",
   "language": "python",
   "name": "python3"
  },
  "language_info": {
   "codemirror_mode": {
    "name": "ipython",
    "version": 3
   },
   "file_extension": ".py",
   "mimetype": "text/x-python",
   "name": "python",
   "nbconvert_exporter": "python",
   "pygments_lexer": "ipython3",
   "version": "3.7.6"
  }
 },
 "nbformat": 4,
 "nbformat_minor": 4
}
